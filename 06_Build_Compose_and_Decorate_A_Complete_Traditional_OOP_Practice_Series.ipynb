{
 "cells": [
  {
   "cell_type": "markdown",
   "id": "d2708487",
   "metadata": {},
   "source": [
    "### 1. **Using `self`**\n",
    "\n",
    "**Assignment:**  \n",
    "Create a class `Student` with attributes `name` and `marks`. Use the `self` keyword to initialize these values via a constructor. Add a method `display()` that prints student details."
   ]
  },
  {
   "cell_type": "code",
   "execution_count": 5,
   "id": "8391f3e6",
   "metadata": {},
   "outputs": [
    {
     "name": "stdout",
     "output_type": "stream",
     "text": [
      "Name :  Syed Abdul Sami\n",
      "Obtained Marks :  100\n"
     ]
    }
   ],
   "source": [
    "class Student:\n",
    "    def __init__ (self, name, marks):\n",
    "        self.name = name\n",
    "        self.marks = marks\n",
    "\n",
    "    def display(self):\n",
    "        print(\"Name : \", self.name)\n",
    "        print(\"Obtained Marks : \", self.marks)\n",
    "\n",
    "s1 = Student(\"Syed Abdul Sami\", 100)\n",
    "s1.display()"
   ]
  },
  {
   "cell_type": "markdown",
   "id": "42d477d7",
   "metadata": {},
   "source": [
    "----------"
   ]
  },
  {
   "cell_type": "markdown",
   "id": "035b5b25",
   "metadata": {},
   "source": [
    "### 2. **Using `cls`**\n",
    "\n",
    "**Assignment:**  \n",
    "Create a class `Counter` that keeps track of how many objects have been created. Use a class variable and a class method with `cls` to manage and display the count."
   ]
  },
  {
   "cell_type": "code",
   "execution_count": 7,
   "id": "1a86ba6e",
   "metadata": {},
   "outputs": [
    {
     "name": "stdout",
     "output_type": "stream",
     "text": [
      "Last Final count =  3\n"
     ]
    }
   ],
   "source": [
    "class Counter:\n",
    "    count = 0\n",
    "\n",
    "    def __init__(self):\n",
    "        Counter.count += 1\n",
    "    \n",
    "    @classmethod\n",
    "    def display(cls):\n",
    "        print(\"Last Final count = \", cls.count)\n",
    "\n",
    "c1 = Counter()\n",
    "c2 = Counter()\n",
    "c3 = Counter()\n",
    "\n",
    "Counter.display()"
   ]
  },
  {
   "cell_type": "markdown",
   "id": "70663af6",
   "metadata": {},
   "source": [
    "----------"
   ]
  },
  {
   "cell_type": "markdown",
   "id": "e60b6c5f",
   "metadata": {},
   "source": [
    "### 3. **Public Variables and Methods**\n",
    "\n",
    "**Assignment:**  \n",
    "Create a class `Car` with a public variable `brand` and a public method `start()`. Instantiate the class and access both from outside the class."
   ]
  },
  {
   "cell_type": "code",
   "execution_count": 9,
   "id": "3d209588",
   "metadata": {},
   "outputs": [
    {
     "name": "stdout",
     "output_type": "stream",
     "text": [
      "Toyota\n",
      "Toyota Car is strarting........\n"
     ]
    }
   ],
   "source": [
    "class Car:\n",
    "    def __init__(self, brand):\n",
    "        self.brand = brand\n",
    "\n",
    "    def start(self):\n",
    "        print(self.brand, \"Car is strarting........\")\n",
    "\n",
    "c1 = Car(\"Toyota\")\n",
    "print(c1.brand)\n",
    "c1.start()"
   ]
  },
  {
   "cell_type": "markdown",
   "id": "e1d91b0d",
   "metadata": {},
   "source": [
    "----------"
   ]
  },
  {
   "cell_type": "markdown",
   "id": "330397c0",
   "metadata": {},
   "source": [
    "### 4. **Class Variables and Class Methods**\n",
    "\n",
    "**Assignment:**  \n",
    "Create a class `Bank` with a class variable `bank_name`. Add a class method `change_bank_name(cls, name)` that allows changing the bank name. Show that it affects all instances."
   ]
  },
  {
   "cell_type": "code",
   "execution_count": 12,
   "id": "df19774e",
   "metadata": {},
   "outputs": [
    {
     "name": "stdout",
     "output_type": "stream",
     "text": [
      "Old Bank = result of b1\n",
      "Old Bank = result of b2\n",
      "New Syed Abdul Sami Bank = result of b2\n"
     ]
    }
   ],
   "source": [
    "class Bank:\n",
    "    bank_name = \"Old Bank\"\n",
    "\n",
    "    @classmethod\n",
    "    def change_bank_name(cls, new_name):\n",
    "        cls.bank_name = new_name\n",
    "\n",
    "b1 = Bank()\n",
    "print(b1.bank_name, \"= result of b1\")\n",
    "\n",
    "b2 = Bank()\n",
    "print(b2.bank_name, \"= result of b2\")\n",
    "b2.change_bank_name(\"New Syed Abdul Sami Bank\")\n",
    "print(b2.bank_name, \"= result of b2\")"
   ]
  },
  {
   "cell_type": "markdown",
   "id": "d2913aa3",
   "metadata": {},
   "source": [
    "----------"
   ]
  },
  {
   "cell_type": "markdown",
   "id": "51c370b6",
   "metadata": {},
   "source": [
    "### 5. **Static Variables and Static Methods**\n",
    "\n",
    "**Assignment:**  \n",
    "Create a class `MathUtils` with a static method `add(a, b)` that returns the sum. No class or instance variables should be used."
   ]
  },
  {
   "cell_type": "code",
   "execution_count": 7,
   "id": "883eecaa",
   "metadata": {},
   "outputs": [
    {
     "name": "stdout",
     "output_type": "stream",
     "text": [
      "38\n"
     ]
    }
   ],
   "source": [
    "class MathUtils:\n",
    "    @staticmethod\n",
    "    \n",
    "    def add(a, b):\n",
    "        return a + b\n",
    "    \n",
    "print(MathUtils.add(35, 3))"
   ]
  },
  {
   "cell_type": "markdown",
   "id": "7868e68b",
   "metadata": {},
   "source": [
    "----------"
   ]
  },
  {
   "cell_type": "markdown",
   "id": "3f70ae6d",
   "metadata": {},
   "source": [
    "### 6. **Constructors and Destructors**\n",
    "\n",
    "**Assignment:**  \n",
    "Create a class `Logger` that prints a message when an object is created (constructor) and another message when it is destroyed (destructor)."
   ]
  },
  {
   "cell_type": "code",
   "execution_count": 20,
   "id": "02e7e16f",
   "metadata": {},
   "outputs": [
    {
     "name": "stdout",
     "output_type": "stream",
     "text": [
      "object is constructed\n",
      "Object is destructed\n"
     ]
    }
   ],
   "source": [
    "class Logger:\n",
    "    def __init__(self): \n",
    "        print(\"object is constructed\")\n",
    "    def __del__(self):\n",
    "        print(\"Object is destructed\")\n",
    "\n",
    "l1 = Logger()\n",
    "del l1"
   ]
  },
  {
   "cell_type": "markdown",
   "id": "e1282bf3",
   "metadata": {},
   "source": [
    "----------"
   ]
  },
  {
   "cell_type": "markdown",
   "id": "4f13f402",
   "metadata": {},
   "source": [
    "### 7. **Access Modifiers: Public, Private, and Protected**\n",
    "\n",
    "**Assignment:**  \n",
    "Create a class `Employee` with:\n",
    "\n",
    "-   a public variable `name`,\n",
    "    \n",
    "-   a protected variable `_salary`, and\n",
    "    \n",
    "-   a private variable `__ssn`.\n",
    "    \n",
    "\n",
    "Try accessing all three variables from an object of the class and document what happens."
   ]
  },
  {
   "cell_type": "code",
   "execution_count": 35,
   "id": "00c923fb",
   "metadata": {},
   "outputs": [
    {
     "name": "stdout",
     "output_type": "stream",
     "text": [
      "Syed Abdul Sami\n",
      "8000000\n",
      "123456789\n"
     ]
    }
   ],
   "source": [
    "class Employee:\n",
    "    def __init__(self):\n",
    "        self.name = \"Syed Abdul Sami\"\n",
    "        self._salary = 8000000\n",
    "        self.__ssn = \"123456789\"\n",
    "\n",
    "e = Employee()\n",
    "print(e.name)\n",
    "print(e._salary)\n",
    "#print(e.__ssn) \n",
    "print(e._Employee__ssn) "
   ]
  },
  {
   "cell_type": "markdown",
   "id": "5df5c731",
   "metadata": {},
   "source": [
    "----------"
   ]
  },
  {
   "cell_type": "markdown",
   "id": "b68b43c4",
   "metadata": {},
   "source": [
    "### 8. **The `super()` Function**\n",
    "\n",
    "**Assignment:**  \n",
    "Create a class `Person` with a constructor that sets the name. Inherit a class `Teacher` from it, add a subject field, and use `super()` to call the base class constructor."
   ]
  },
  {
   "cell_type": "code",
   "execution_count": 36,
   "id": "4f6b359d",
   "metadata": {},
   "outputs": [
    {
     "name": "stdout",
     "output_type": "stream",
     "text": [
      "Syed Abdul Sami\n",
      "Physics\n"
     ]
    }
   ],
   "source": [
    "class Person:\n",
    "    def __init__ (self, name):\n",
    "        self.name = name\n",
    "\n",
    "class Teacher(Person):\n",
    "    def __init__(self, name, subject):\n",
    "        super().__init__(name)\n",
    "        self.subject = subject\n",
    "\n",
    "A8 = Teacher(\"Syed Abdul Sami\", \"Physics\")\n",
    "print(A8.name)\n",
    "print(A8.subject)"
   ]
  },
  {
   "cell_type": "markdown",
   "id": "3dad0e38",
   "metadata": {},
   "source": [
    "----------"
   ]
  },
  {
   "cell_type": "markdown",
   "id": "742036b8",
   "metadata": {},
   "source": [
    "### 9. **Abstract Classes and Methods**\n",
    "\n",
    "**Assignment:**  \n",
    "Use the `abc` module to create an abstract class `Shape` with an abstract method `area()`. Inherit a class `Rectangle` that implements `area()`."
   ]
  },
  {
   "cell_type": "code",
   "execution_count": 1,
   "id": "5fd06ed3",
   "metadata": {},
   "outputs": [
    {
     "name": "stdout",
     "output_type": "stream",
     "text": [
      "Area of rectangle: 50\n"
     ]
    }
   ],
   "source": [
    "from abc import ABC, abstractmethod\n",
    "class Shape(ABC):\n",
    "    @abstractmethod\n",
    "    def area(self):\n",
    "        pass\n",
    "\n",
    "class Rectangle(Shape):\n",
    "    def __init__(self, length, width):\n",
    "        self.length = length\n",
    "        self.width = width\n",
    "    def area(self):\n",
    "        return self.length * self.width\n",
    "    \n",
    "rect = Rectangle(5, 10)\n",
    "print(\"Area of rectangle: \" + str(rect.area()))"
   ]
  },
  {
   "cell_type": "markdown",
   "id": "4f6ed84a",
   "metadata": {},
   "source": [
    "----------"
   ]
  },
  {
   "cell_type": "markdown",
   "id": "05ec7282",
   "metadata": {},
   "source": [
    "### 10. **Instance Methods**\n",
    "\n",
    "**Assignment:**  \n",
    "Create a class `Dog` with instance variables `name` and `breed`. Add an instance method `bark()` that prints a message including the dog's name."
   ]
  },
  {
   "cell_type": "code",
   "execution_count": 1,
   "id": "0f2167ad",
   "metadata": {},
   "outputs": [
    {
     "name": "stdout",
     "output_type": "stream",
     "text": [
      "Tommy's breed is Labrador\n"
     ]
    }
   ],
   "source": [
    "class Dog:\n",
    "    def __init__(self, name, breed):\n",
    "        self.name = name\n",
    "        self.breed = breed\n",
    "    \n",
    "    def bark(self):\n",
    "        print(F\"{self.name}'s breed is {self.breed}\")\n",
    "\n",
    "d = Dog(\"Tommy\", \"Labrador\")\n",
    "d.bark()"
   ]
  },
  {
   "cell_type": "markdown",
   "id": "fdedaeab",
   "metadata": {},
   "source": [
    "----------"
   ]
  },
  {
   "cell_type": "markdown",
   "id": "80645e67",
   "metadata": {},
   "source": [
    "### 11. **Class Methods**\n",
    "\n",
    "**Assignment:**  \n",
    "Create a class `Book` with a class variable `total_books`. Add a class method `increment_book_count()` to increase the count when a new book is added."
   ]
  },
  {
   "cell_type": "code",
   "execution_count": 10,
   "id": "ebedf1f9",
   "metadata": {},
   "outputs": [
    {
     "name": "stdout",
     "output_type": "stream",
     "text": [
      "Total books:  1\n",
      "Total books:  2\n"
     ]
    }
   ],
   "source": [
    "class Book:\n",
    "    total_books = 0\n",
    "    @classmethod\n",
    "    def increment_book_count(cls):\n",
    "        cls.total_books += 1\n",
    "\n",
    "b1= Book()\n",
    "b1.increment_book_count()\n",
    "print(\"Total books: \", b1.total_books)\n",
    "b1.increment_book_count()\n",
    "print(\"Total books: \", b1.total_books)"
   ]
  },
  {
   "cell_type": "markdown",
   "id": "76bda605",
   "metadata": {},
   "source": [
    "----------"
   ]
  },
  {
   "cell_type": "markdown",
   "id": "14fae5bf",
   "metadata": {},
   "source": [
    "### 12. **Static Methods**\n",
    "\n",
    "**Assignment:**  \n",
    "Create a class `TemperatureConverter` with a static method `celsius_to_fahrenheit(c)` that returns the Fahrenheit value."
   ]
  },
  {
   "cell_type": "code",
   "execution_count": 4,
   "id": "11cad110",
   "metadata": {},
   "outputs": [
    {
     "name": "stdout",
     "output_type": "stream",
     "text": [
      "25 Celsius is equal to 77.0 Fahrenheit\n"
     ]
    }
   ],
   "source": [
    "class TemperatureConverter:\n",
    "    @staticmethod\n",
    "    def celsius_to_fahrenheit(c):\n",
    "        return (c * 9/5) + 32\n",
    "    \n",
    "converter = TemperatureConverter()\n",
    "c=25\n",
    "converter.celsius_to_fahrenheit(c)\n",
    "print(f\"{c} Celsius is equal to {converter.celsius_to_fahrenheit(c)} Fahrenheit\")"
   ]
  },
  {
   "cell_type": "markdown",
   "id": "0c1f4044",
   "metadata": {},
   "source": [
    "----------"
   ]
  },
  {
   "cell_type": "markdown",
   "id": "4821ea88",
   "metadata": {},
   "source": [
    "### 13. **Composition**\n",
    "\n",
    "**Assignment:**  \n",
    "Create a class `Engine` and a class `Car`. Use composition by passing an `Engine` object to the `Car` class during initialization. Access a method of the `Engine` class via the `Car` class."
   ]
  },
  {
   "cell_type": "code",
   "execution_count": 17,
   "id": "11449a29",
   "metadata": {},
   "outputs": [
    {
     "name": "stdout",
     "output_type": "stream",
     "text": [
      "Engin is created\n",
      "Car is created\n",
      "Engine is starting\n",
      "Car is starting and Car has a <__main__.Engine object at 0x000001BDFD7623C0>\n",
      "\n",
      "_____________ Now we will delete the object of Car class _____________\n",
      "Car is destroyed\n",
      "Engine is destroyed\n"
     ]
    }
   ],
   "source": [
    "# create a class for Engine\n",
    "class Engine:\n",
    "    def __init__(self):\n",
    "        print(\"Engin is created\")\n",
    "\n",
    "    def start(self):\n",
    "        print(\"Engine is starting\")\n",
    "\n",
    "    def __del__(self):                     # theis message will be printed when the object is deleted\n",
    "        print(\"Engine is destroyed\")\n",
    "\n",
    "# create a class for Car\n",
    "class Car:\n",
    "    def __init__ (self):\n",
    "        self.engine = Engine()              # create an object of Engine class. This object is created in the other class\n",
    "        print(\"Car is created\")\n",
    "\n",
    "    def start_car(self):\n",
    "        self.engine.start()                 # call the start method of Engine class. Now Car *has a* the object of Engine class\n",
    "        print(\"Car is starting ........\")\n",
    "\n",
    "    def __del__(self):                     # theis message will be printed when the object is deleted\n",
    "        print(\"Car is destroyed\")\n",
    "\n",
    "# create an object of Car class\n",
    "my_car = Car()\n",
    "my_car.start_car()\n",
    "\n",
    "print(\"\")\n",
    "print(\"_____________ Now we will delete the object of Car class _____________\")\n",
    "del my_car\n",
    "# we delete only my_car object, but the object of Engine class will also be deleted\n"
   ]
  },
  {
   "cell_type": "markdown",
   "id": "b384ca85",
   "metadata": {},
   "source": [
    "----------"
   ]
  },
  {
   "cell_type": "markdown",
   "id": "27fe09b0",
   "metadata": {},
   "source": [
    "### 14. **Aggregation**\n",
    "\n",
    "**Assignment:**  \n",
    "Create a class `Department` and a class `Employee`. Use aggregation by having a `Department` object store a reference to an `Employee` object that exists independently of it."
   ]
  },
  {
   "cell_type": "code",
   "execution_count": 28,
   "id": "7b85c53f",
   "metadata": {},
   "outputs": [
    {
     "name": "stdout",
     "output_type": "stream",
     "text": [
      "Employee: Syed Abdul Sami Created\n",
      "Employee: John Doe Created\n",
      "Department: IT Created\n",
      "Department: IT added employee Syed Abdul Sami\n",
      "Department: IT added employee John Doe\n",
      "Department: IT Employees:\n",
      "  - Employee Name: Syed Abdul Sami\n",
      "  - Employee Name: John Doe\n",
      "\n",
      "--- now we delete department object ---\n",
      "Department: IT Deleted\n",
      "Employee 1 still exists: Employee Name: Syed Abdul Sami\n",
      "Employee 2 still exists: Employee Name: John Doe\n"
     ]
    }
   ],
   "source": [
    "# Employee class\n",
    "class Employee:\n",
    "    def __init__(self, name):\n",
    "        self.name = name\n",
    "        print(f\"Employee: {self.name} Created\")\n",
    "\n",
    "    def get_detail(self):\n",
    "        return f\"Employee Name: {self.name}\"\n",
    "\n",
    "\n",
    "# Department class (Aggregates Employees)\n",
    "class Department:\n",
    "    def __init__(self, name):\n",
    "        self.name = name\n",
    "        self.employees = [] # Stores references to Employee objects\n",
    "        print(f\"Department: {self.name} Created\")\n",
    "\n",
    "    def add_employee(self, employee):\n",
    "        self.employees.append(employee)\n",
    "        print(f\"Department: {self.name} added employee {employee.name}\")\n",
    "\n",
    "    def list_employees(self):\n",
    "        print(f\"Department: {self.name} Employees:\")\n",
    "        if not self.employees:\n",
    "            print(\"  (No employees currently)\")\n",
    "        for emp in self.employees:\n",
    "            print(f\"  - {emp.get_detail()}\")\n",
    "\n",
    "    def __del__(self):\n",
    "        print(f\"Department: {self.name} Deleted\")\n",
    "\n",
    "\n",
    "emp_1 = Employee(\"Syed Abdul Sami\")\n",
    "emp_2 = Employee(\"John Doe\")\n",
    "dept = Department(\"IT\")\n",
    "dept.add_employee(emp_1)\n",
    "dept.add_employee(emp_2)\n",
    "dept.list_employees()\n",
    "\n",
    "print(\"\\n--- now we delete department object ---\")\n",
    "del dept\n",
    "print(f\"Employee 1 still exists: {emp_1.get_detail()}\")\n",
    "print(f\"Employee 2 still exists: {emp_2.get_detail()}\")\n"
   ]
  },
  {
   "cell_type": "markdown",
   "id": "328bee5c",
   "metadata": {},
   "source": [
    "----------"
   ]
  },
  {
   "cell_type": "markdown",
   "id": "16b38fa1",
   "metadata": {},
   "source": [
    "### 15. **Method Resolution Order (MRO) and Diamond Inheritance**\n",
    "\n",
    "**Assignment:**  \n",
    "Create four classes:\n",
    "\n",
    "-   `A` with a method `show()`,\n",
    "    \n",
    "-   `B` and `C` that inherit from `A` and override `show()`,\n",
    "    \n",
    "-   `D` that inherits from both `B` and `C`.\n",
    "    \n",
    "\n",
    "Create an object of `D` and call `show()` to observe MRO."
   ]
  },
  {
   "cell_type": "markdown",
   "id": "eefd904b",
   "metadata": {},
   "source": [
    "----------"
   ]
  },
  {
   "cell_type": "markdown",
   "id": "a049486c",
   "metadata": {},
   "source": [
    "### 16. **Function Decorators**\n",
    "\n",
    "**Assignment:**  \n",
    "Write a decorator function `log_function_call` that prints \"Function is being called\" before a function executes. Apply it to a function `say_hello()`."
   ]
  },
  {
   "cell_type": "code",
   "execution_count": 8,
   "id": "843b7e0c",
   "metadata": {},
   "outputs": [
    {
     "name": "stdout",
     "output_type": "stream",
     "text": [
      "Function is being called\n",
      "Hello!\n"
     ]
    }
   ],
   "source": [
    "def log_function_call(func):\n",
    "    def wrapper():\n",
    "        print(\"Function is being called\")\n",
    "        func()\n",
    "    return wrapper\n",
    "@log_function_call\n",
    "def say_hello():\n",
    "    print(\"Hello!\")\n",
    "\n",
    "say_hello()"
   ]
  },
  {
   "cell_type": "markdown",
   "id": "40125b38",
   "metadata": {},
   "source": [
    "----------"
   ]
  },
  {
   "cell_type": "markdown",
   "id": "49ac3257",
   "metadata": {},
   "source": [
    "### 17. **Class Decorators**\n",
    "\n",
    "**Assignment:**  \n",
    "Create a class decorator `add_greeting` that modifies a class to add a `greet()` method returning \"Hello from Decorator!\". Apply it to a class `Person`."
   ]
  },
  {
   "cell_type": "code",
   "execution_count": null,
   "id": "04bdc7a1",
   "metadata": {},
   "outputs": [
    {
     "ename": "SyntaxError",
     "evalue": "invalid syntax (664438045.py, line 6)",
     "output_type": "error",
     "traceback": [
      "  \u001b[36mCell\u001b[39m\u001b[36m \u001b[39m\u001b[32mIn[11]\u001b[39m\u001b[32m, line 6\u001b[39m\n\u001b[31m    \u001b[39m\u001b[31mdef__init__(self, name):\u001b[39m\n                           ^\n\u001b[31mSyntaxError\u001b[39m\u001b[31m:\u001b[39m invalid syntax\n"
     ]
    }
   ],
   "source": [
    "def add_greeting(cls):\n",
    "    cls.greet = lambda self : \"Hello from Decorator!\"\n",
    "    return cls\n",
    "@add_greeting\n",
    "class Person:\n",
    "    def __init__(self, name):\n",
    "        self.name = name\n",
    "\n",
    "p = Person(\"Ali\")\n",
    "print(p.greet())"
   ]
  },
  {
   "cell_type": "markdown",
   "id": "de52601e",
   "metadata": {},
   "source": [
    "----------"
   ]
  },
  {
   "cell_type": "markdown",
   "id": "3869dac3",
   "metadata": {},
   "source": [
    "### 18. **Property Decorators: `@property`, `@setter`, and `@deleter`**\n",
    "\n",
    "**Assignment:**  \n",
    "Create a class `Product` with a private attribute `_price`. Use `@property` to get the price, `@price.setter` to update it, and `@price.deleter` to delete it."
   ]
  },
  {
   "cell_type": "code",
   "execution_count": 12,
   "id": "7dff5ad8",
   "metadata": {},
   "outputs": [
    {
     "name": "stdout",
     "output_type": "stream",
     "text": [
      "100\n",
      "200\n",
      "Price deleted\n"
     ]
    }
   ],
   "source": [
    "class Product:\n",
    "    def __init__(self, price):\n",
    "        self.price = price\n",
    "\n",
    "    @property\n",
    "    def price(self):\n",
    "        return self._price\n",
    "    @price.setter\n",
    "    def price(self, value):\n",
    "        self._price = value\n",
    "    @price.deleter\n",
    "    def price(self):\n",
    "        del self._price\n",
    "        print(\"Price deleted\")\n",
    "\n",
    "p = Product(100)\n",
    "print(p.price)\n",
    "p.price = 200\n",
    "print(p.price)\n",
    "del p.price"
   ]
  },
  {
   "cell_type": "markdown",
   "id": "e371905e",
   "metadata": {},
   "source": [
    "----------"
   ]
  },
  {
   "cell_type": "markdown",
   "id": "db250a24",
   "metadata": {},
   "source": [
    "### 19. **`callable()` and `__call__()`**\n",
    "\n",
    "**Assignment:**  \n",
    "Create a class `Multiplier` with an `__init__()` to set a factor. Define a `__call__()` method that multiplies an input by the factor. Test it with `callable()` and by calling the object like a function."
   ]
  },
  {
   "cell_type": "code",
   "execution_count": 13,
   "id": "77151856",
   "metadata": {},
   "outputs": [
    {
     "name": "stdout",
     "output_type": "stream",
     "text": [
      "True\n",
      "30\n"
     ]
    }
   ],
   "source": [
    "class Multiplier:\n",
    "    def __init__(self, factor):\n",
    "        self.factor = factor\n",
    "\n",
    "    def __call__(self, number):\n",
    "        return self.factor * number\n",
    "m = Multiplier(3)\n",
    "print(callable(m))\n",
    "print(m(10))"
   ]
  },
  {
   "cell_type": "markdown",
   "id": "fbc713e4",
   "metadata": {},
   "source": [
    "----------"
   ]
  },
  {
   "cell_type": "markdown",
   "id": "9a07a02c",
   "metadata": {},
   "source": [
    "### 20. **Creating a Custom Exception**\n",
    "\n",
    "**Assignment:**  \n",
    "Create a custom exception `InvalidAgeError`. Write a function `check_age(age)` that raises this exception if `age < 18`. Handle it with `try...except`."
   ]
  },
  {
   "cell_type": "code",
   "execution_count": 15,
   "id": "0c5d8e4b",
   "metadata": {},
   "outputs": [
    {
     "name": "stdout",
     "output_type": "stream",
     "text": [
      "Error: Age must be at least 18\n"
     ]
    }
   ],
   "source": [
    "class InvalidAgeError(Exception):\n",
    "    pass\n",
    "\n",
    "def check_age(age):\n",
    "    if age < 18:\n",
    "        raise InvalidAgeError(\"Age must be at least 18\")\n",
    "    else:\n",
    "        print(\"Age is valid\")\n",
    "try:\n",
    "    check_age(16)\n",
    "except InvalidAgeError as e:\n",
    "    print(\"Error:\", e)\n"
   ]
  },
  {
   "cell_type": "markdown",
   "id": "606d249f",
   "metadata": {},
   "source": [
    "----------"
   ]
  },
  {
   "cell_type": "markdown",
   "id": "15204eb8",
   "metadata": {},
   "source": [
    "### 21. **Make a Custom Class Iterable**\n",
    "\n",
    "**Assignment:**  \n",
    "Create a class `Countdown` that takes a start number. Implement `__iter__()` and `__next__()` to make the object iterable in a for-loop, counting down to 0."
   ]
  },
  {
   "cell_type": "code",
   "execution_count": 16,
   "id": "4d422a8a",
   "metadata": {},
   "outputs": [
    {
     "name": "stdout",
     "output_type": "stream",
     "text": [
      "5\n",
      "4\n",
      "3\n",
      "2\n",
      "1\n",
      "0\n"
     ]
    }
   ],
   "source": [
    "class Countdown:\n",
    "    def __init__(self, start):\n",
    "        self.current = start\n",
    "\n",
    "    def __iter__(self):\n",
    "        return self\n",
    "\n",
    "    def __next__(self):\n",
    "        if self.current < 0:\n",
    "            raise StopIteration\n",
    "        else:\n",
    "            val = self.current\n",
    "            self.current -= 1\n",
    "            return val\n",
    "        \n",
    "for num in Countdown(5):\n",
    "    print(num)"
   ]
  },
  {
   "cell_type": "markdown",
   "id": "71435cf0",
   "metadata": {},
   "source": [
    "----------"
   ]
  }
 ],
 "metadata": {
  "kernelspec": {
   "display_name": "Python 3",
   "language": "python",
   "name": "python3"
  },
  "language_info": {
   "codemirror_mode": {
    "name": "ipython",
    "version": 3
   },
   "file_extension": ".py",
   "mimetype": "text/x-python",
   "name": "python",
   "nbconvert_exporter": "python",
   "pygments_lexer": "ipython3",
   "version": "3.13.2"
  }
 },
 "nbformat": 4,
 "nbformat_minor": 5
}
