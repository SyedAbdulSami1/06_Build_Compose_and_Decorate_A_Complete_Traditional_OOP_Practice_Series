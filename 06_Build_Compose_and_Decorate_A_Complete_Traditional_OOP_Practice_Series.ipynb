{
 "cells": [
  {
   "cell_type": "markdown",
   "id": "d2708487",
   "metadata": {},
   "source": [
    "### 1. **Using `self`**\n",
    "\n",
    "**Assignment:**  \n",
    "Create a class `Student` with attributes `name` and `marks`. Use the `self` keyword to initialize these values via a constructor. Add a method `display()` that prints student details."
   ]
  },
  {
   "cell_type": "code",
   "execution_count": 5,
   "id": "8391f3e6",
   "metadata": {},
   "outputs": [
    {
     "name": "stdout",
     "output_type": "stream",
     "text": [
      "Name :  Syed Abdul Sami\n",
      "Obtained Marks :  100\n"
     ]
    }
   ],
   "source": [
    "class Student:\n",
    "    def __init__ (self, name, marks):\n",
    "        self.name = name\n",
    "        self.marks = marks\n",
    "\n",
    "    def display(self):\n",
    "        print(\"Name : \", self.name)\n",
    "        print(\"Obtained Marks : \", self.marks)\n",
    "\n",
    "s1 = Student(\"Syed Abdul Sami\", 100)\n",
    "s1.display()"
   ]
  },
  {
   "cell_type": "markdown",
   "id": "42d477d7",
   "metadata": {},
   "source": [
    "----------"
   ]
  },
  {
   "cell_type": "markdown",
   "id": "035b5b25",
   "metadata": {},
   "source": [
    "### 2. **Using `cls`**\n",
    "\n",
    "**Assignment:**  \n",
    "Create a class `Counter` that keeps track of how many objects have been created. Use a class variable and a class method with `cls` to manage and display the count."
   ]
  },
  {
   "cell_type": "code",
   "execution_count": 7,
   "id": "1a86ba6e",
   "metadata": {},
   "outputs": [
    {
     "name": "stdout",
     "output_type": "stream",
     "text": [
      "Last Final count =  3\n"
     ]
    }
   ],
   "source": [
    "class Counter:\n",
    "    count = 0\n",
    "\n",
    "    def __init__(self):\n",
    "        Counter.count += 1\n",
    "    \n",
    "    @classmethod\n",
    "    def display(cls):\n",
    "        print(\"Last Final count = \", cls.count)\n",
    "\n",
    "c1 = Counter()\n",
    "c2 = Counter()\n",
    "c3 = Counter()\n",
    "\n",
    "Counter.display()"
   ]
  },
  {
   "cell_type": "markdown",
   "id": "70663af6",
   "metadata": {},
   "source": [
    "----------"
   ]
  },
  {
   "cell_type": "markdown",
   "id": "e60b6c5f",
   "metadata": {},
   "source": [
    "### 3. **Public Variables and Methods**\n",
    "\n",
    "**Assignment:**  \n",
    "Create a class `Car` with a public variable `brand` and a public method `start()`. Instantiate the class and access both from outside the class."
   ]
  },
  {
   "cell_type": "code",
   "execution_count": null,
   "id": "3d209588",
   "metadata": {},
   "outputs": [],
   "source": [
    "class"
   ]
  },
  {
   "cell_type": "markdown",
   "id": "e1d91b0d",
   "metadata": {},
   "source": [
    "----------"
   ]
  },
  {
   "cell_type": "markdown",
   "id": "330397c0",
   "metadata": {},
   "source": [
    "### 4. **Class Variables and Class Methods**\n",
    "\n",
    "**Assignment:**  \n",
    "Create a class `Bank` with a class variable `bank_name`. Add a class method `change_bank_name(cls, name)` that allows changing the bank name. Show that it affects all instances."
   ]
  },
  {
   "cell_type": "code",
   "execution_count": null,
   "id": "df19774e",
   "metadata": {},
   "outputs": [],
   "source": [
    "class"
   ]
  },
  {
   "cell_type": "markdown",
   "id": "d2913aa3",
   "metadata": {},
   "source": [
    "----------"
   ]
  },
  {
   "cell_type": "markdown",
   "id": "51c370b6",
   "metadata": {},
   "source": [
    "### 5. **Static Variables and Static Methods**\n",
    "\n",
    "**Assignment:**  \n",
    "Create a class `MathUtils` with a static method `add(a, b)` that returns the sum. No class or instance variables should be used."
   ]
  },
  {
   "cell_type": "code",
   "execution_count": null,
   "id": "883eecaa",
   "metadata": {},
   "outputs": [],
   "source": [
    "class"
   ]
  },
  {
   "cell_type": "markdown",
   "id": "7868e68b",
   "metadata": {},
   "source": [
    "----------"
   ]
  },
  {
   "cell_type": "markdown",
   "id": "3f70ae6d",
   "metadata": {},
   "source": [
    "### 6. **Constructors and Destructors**\n",
    "\n",
    "**Assignment:**  \n",
    "Create a class `Logger` that prints a message when an object is created (constructor) and another message when it is destroyed (destructor)."
   ]
  },
  {
   "cell_type": "code",
   "execution_count": null,
   "id": "02e7e16f",
   "metadata": {},
   "outputs": [],
   "source": [
    "class"
   ]
  },
  {
   "cell_type": "markdown",
   "id": "e1282bf3",
   "metadata": {},
   "source": [
    "----------"
   ]
  },
  {
   "cell_type": "markdown",
   "id": "4f13f402",
   "metadata": {},
   "source": [
    "### 7. **Access Modifiers: Public, Private, and Protected**\n",
    "\n",
    "**Assignment:**  \n",
    "Create a class `Employee` with:\n",
    "\n",
    "-   a public variable `name`,\n",
    "    \n",
    "-   a protected variable `_salary`, and\n",
    "    \n",
    "-   a private variable `__ssn`.\n",
    "    \n",
    "\n",
    "Try accessing all three variables from an object of the class and document what happens."
   ]
  },
  {
   "cell_type": "code",
   "execution_count": null,
   "id": "00c923fb",
   "metadata": {},
   "outputs": [],
   "source": [
    "class"
   ]
  },
  {
   "cell_type": "markdown",
   "id": "5df5c731",
   "metadata": {},
   "source": [
    "----------"
   ]
  },
  {
   "cell_type": "markdown",
   "id": "b68b43c4",
   "metadata": {},
   "source": [
    "### 8. **The `super()` Function**\n",
    "\n",
    "**Assignment:**  \n",
    "Create a class `Person` with a constructor that sets the name. Inherit a class `Teacher` from it, add a subject field, and use `super()` to call the base class constructor."
   ]
  },
  {
   "cell_type": "code",
   "execution_count": null,
   "id": "4f6b359d",
   "metadata": {},
   "outputs": [],
   "source": [
    "class"
   ]
  },
  {
   "cell_type": "markdown",
   "id": "3dad0e38",
   "metadata": {},
   "source": [
    "----------"
   ]
  },
  {
   "cell_type": "markdown",
   "id": "742036b8",
   "metadata": {},
   "source": [
    "### 9. **Abstract Classes and Methods**\n",
    "\n",
    "**Assignment:**  \n",
    "Use the `abc` module to create an abstract class `Shape` with an abstract method `area()`. Inherit a class `Rectangle` that implements `area()`."
   ]
  },
  {
   "cell_type": "code",
   "execution_count": null,
   "id": "5fd06ed3",
   "metadata": {},
   "outputs": [],
   "source": [
    "class"
   ]
  },
  {
   "cell_type": "markdown",
   "id": "4f6ed84a",
   "metadata": {},
   "source": [
    "----------"
   ]
  },
  {
   "cell_type": "markdown",
   "id": "05ec7282",
   "metadata": {},
   "source": [
    "### 10. **Instance Methods**\n",
    "\n",
    "**Assignment:**  \n",
    "Create a class `Dog` with instance variables `name` and `breed`. Add an instance method `bark()` that prints a message including the dog's name."
   ]
  },
  {
   "cell_type": "code",
   "execution_count": null,
   "id": "0f2167ad",
   "metadata": {},
   "outputs": [],
   "source": [
    "class"
   ]
  },
  {
   "cell_type": "markdown",
   "id": "fdedaeab",
   "metadata": {},
   "source": [
    "----------"
   ]
  },
  {
   "cell_type": "markdown",
   "id": "80645e67",
   "metadata": {},
   "source": [
    "### 11. **Class Methods**\n",
    "\n",
    "**Assignment:**  \n",
    "Create a class `Book` with a class variable `total_books`. Add a class method `increment_book_count()` to increase the count when a new book is added."
   ]
  },
  {
   "cell_type": "code",
   "execution_count": null,
   "id": "ebedf1f9",
   "metadata": {},
   "outputs": [],
   "source": [
    "class"
   ]
  },
  {
   "cell_type": "markdown",
   "id": "76bda605",
   "metadata": {},
   "source": [
    "----------"
   ]
  },
  {
   "cell_type": "markdown",
   "id": "14fae5bf",
   "metadata": {},
   "source": [
    "### 12. **Static Methods**\n",
    "\n",
    "**Assignment:**  \n",
    "Create a class `TemperatureConverter` with a static method `celsius_to_fahrenheit(c)` that returns the Fahrenheit value."
   ]
  },
  {
   "cell_type": "code",
   "execution_count": null,
   "id": "11cad110",
   "metadata": {},
   "outputs": [],
   "source": [
    "class"
   ]
  },
  {
   "cell_type": "markdown",
   "id": "0c1f4044",
   "metadata": {},
   "source": [
    "----------"
   ]
  },
  {
   "cell_type": "markdown",
   "id": "4821ea88",
   "metadata": {},
   "source": [
    "### 13. **Composition**\n",
    "\n",
    "**Assignment:**  \n",
    "Create a class `Engine` and a class `Car`. Use composition by passing an `Engine` object to the `Car` class during initialization. Access a method of the `Engine` class via the `Car` class."
   ]
  },
  {
   "cell_type": "code",
   "execution_count": null,
   "id": "11449a29",
   "metadata": {},
   "outputs": [],
   "source": [
    "class"
   ]
  },
  {
   "cell_type": "markdown",
   "id": "b384ca85",
   "metadata": {},
   "source": [
    "----------"
   ]
  },
  {
   "cell_type": "markdown",
   "id": "27fe09b0",
   "metadata": {},
   "source": [
    "### 14. **Aggregation**\n",
    "\n",
    "**Assignment:**  \n",
    "Create a class `Department` and a class `Employee`. Use aggregation by having a `Department` object store a reference to an `Employee` object that exists independently of it."
   ]
  },
  {
   "cell_type": "code",
   "execution_count": null,
   "id": "7b85c53f",
   "metadata": {},
   "outputs": [],
   "source": [
    "class"
   ]
  },
  {
   "cell_type": "markdown",
   "id": "328bee5c",
   "metadata": {},
   "source": [
    "----------"
   ]
  },
  {
   "cell_type": "markdown",
   "id": "16b38fa1",
   "metadata": {},
   "source": [
    "### 15. **Method Resolution Order (MRO) and Diamond Inheritance**\n",
    "\n",
    "**Assignment:**  \n",
    "Create four classes:\n",
    "\n",
    "-   `A` with a method `show()`,\n",
    "    \n",
    "-   `B` and `C` that inherit from `A` and override `show()`,\n",
    "    \n",
    "-   `D` that inherits from both `B` and `C`.\n",
    "    \n",
    "\n",
    "Create an object of `D` and call `show()` to observe MRO."
   ]
  },
  {
   "cell_type": "code",
   "execution_count": null,
   "id": "3ff421b8",
   "metadata": {},
   "outputs": [],
   "source": [
    "class"
   ]
  },
  {
   "cell_type": "markdown",
   "id": "eefd904b",
   "metadata": {},
   "source": [
    "----------"
   ]
  },
  {
   "cell_type": "markdown",
   "id": "a049486c",
   "metadata": {},
   "source": [
    "### 16. **Function Decorators**\n",
    "\n",
    "**Assignment:**  \n",
    "Write a decorator function `log_function_call` that prints \"Function is being called\" before a function executes. Apply it to a function `say_hello()`."
   ]
  },
  {
   "cell_type": "code",
   "execution_count": null,
   "id": "843b7e0c",
   "metadata": {},
   "outputs": [],
   "source": [
    "class"
   ]
  },
  {
   "cell_type": "markdown",
   "id": "40125b38",
   "metadata": {},
   "source": [
    "----------"
   ]
  },
  {
   "cell_type": "markdown",
   "id": "49ac3257",
   "metadata": {},
   "source": [
    "### 17. **Class Decorators**\n",
    "\n",
    "**Assignment:**  \n",
    "Create a class decorator `add_greeting` that modifies a class to add a `greet()` method returning \"Hello from Decorator!\". Apply it to a class `Person`."
   ]
  },
  {
   "cell_type": "code",
   "execution_count": null,
   "id": "04bdc7a1",
   "metadata": {},
   "outputs": [],
   "source": [
    "class"
   ]
  },
  {
   "cell_type": "markdown",
   "id": "de52601e",
   "metadata": {},
   "source": [
    "----------"
   ]
  },
  {
   "cell_type": "markdown",
   "id": "3869dac3",
   "metadata": {},
   "source": [
    "### 18. **Property Decorators: `@property`, `@setter`, and `@deleter`**\n",
    "\n",
    "**Assignment:**  \n",
    "Create a class `Product` with a private attribute `_price`. Use `@property` to get the price, `@price.setter` to update it, and `@price.deleter` to delete it."
   ]
  },
  {
   "cell_type": "code",
   "execution_count": null,
   "id": "7dff5ad8",
   "metadata": {},
   "outputs": [],
   "source": [
    "class"
   ]
  },
  {
   "cell_type": "markdown",
   "id": "e371905e",
   "metadata": {},
   "source": [
    "----------"
   ]
  },
  {
   "cell_type": "markdown",
   "id": "db250a24",
   "metadata": {},
   "source": [
    "### 19. **`callable()` and `__call__()`**\n",
    "\n",
    "**Assignment:**  \n",
    "Create a class `Multiplier` with an `__init__()` to set a factor. Define a `__call__()` method that multiplies an input by the factor. Test it with `callable()` and by calling the object like a function."
   ]
  },
  {
   "cell_type": "code",
   "execution_count": null,
   "id": "77151856",
   "metadata": {},
   "outputs": [],
   "source": [
    "class"
   ]
  },
  {
   "cell_type": "markdown",
   "id": "fbc713e4",
   "metadata": {},
   "source": [
    "----------"
   ]
  },
  {
   "cell_type": "markdown",
   "id": "9a07a02c",
   "metadata": {},
   "source": [
    "### 20. **Creating a Custom Exception**\n",
    "\n",
    "**Assignment:**  \n",
    "Create a custom exception `InvalidAgeError`. Write a function `check_age(age)` that raises this exception if `age < 18`. Handle it with `try...except`."
   ]
  },
  {
   "cell_type": "code",
   "execution_count": null,
   "id": "0c5d8e4b",
   "metadata": {},
   "outputs": [],
   "source": [
    "class"
   ]
  },
  {
   "cell_type": "markdown",
   "id": "606d249f",
   "metadata": {},
   "source": [
    "----------"
   ]
  },
  {
   "cell_type": "markdown",
   "id": "15204eb8",
   "metadata": {},
   "source": [
    "### 21. **Make a Custom Class Iterable**\n",
    "\n",
    "**Assignment:**  \n",
    "Create a class `Countdown` that takes a start number. Implement `__iter__()` and `__next__()` to make the object iterable in a for-loop, counting down to 0."
   ]
  },
  {
   "cell_type": "code",
   "execution_count": null,
   "id": "4d422a8a",
   "metadata": {},
   "outputs": [],
   "source": [
    "class"
   ]
  },
  {
   "cell_type": "markdown",
   "id": "71435cf0",
   "metadata": {},
   "source": [
    "----------"
   ]
  }
 ],
 "metadata": {
  "kernelspec": {
   "display_name": "Python 3",
   "language": "python",
   "name": "python3"
  },
  "language_info": {
   "codemirror_mode": {
    "name": "ipython",
    "version": 3
   },
   "file_extension": ".py",
   "mimetype": "text/x-python",
   "name": "python",
   "nbconvert_exporter": "python",
   "pygments_lexer": "ipython3",
   "version": "3.13.2"
  }
 },
 "nbformat": 4,
 "nbformat_minor": 5
}
